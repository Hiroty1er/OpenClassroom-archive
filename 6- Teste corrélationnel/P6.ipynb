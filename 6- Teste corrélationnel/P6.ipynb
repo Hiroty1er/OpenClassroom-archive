{
 "cells": [
  {
   "cell_type": "code",
   "execution_count": 32,
   "id": "431a76a6",
   "metadata": {},
   "outputs": [],
   "source": [
    "import pandas as pd\n",
    "import seaborn as sns\n",
    "import numpy as np\n",
    "from datetime import datetime as dt\n",
    "from scipy import stats\n",
    "import glob as g\n",
    "import matplotlib.pyplot as plt"
   ]
  },
  {
   "cell_type": "code",
   "execution_count": 33,
   "id": "5ef0bb41",
   "metadata": {},
   "outputs": [
    {
     "name": "stdout",
     "output_type": "stream",
     "text": [
      "./Data_P6/customers.csv: Importé dans 'customers'\n",
      "./Data_P6/products.csv: Importé dans 'products'\n",
      "./Data_P6/transactions.csv: Importé dans 'transactions'\n"
     ]
    }
   ],
   "source": [
    "def importer(dossier):\n",
    "    \n",
    "    liste_ext = {'xlsx':'excel','csv':'csv'}\n",
    "    globals()['list_df'] = []\n",
    "    \n",
    "    fichiers = [file for file in g.glob(dossier+'/*')]\n",
    "    \n",
    "    for fichier in fichiers:\n",
    "\n",
    "        fichier = fichier.split('\\\\')\n",
    "        (fnom,fext) = fichier[len(fichier)-1].split('.')\n",
    "        fichier = str(dossier)+'/'+str(fichier[1])\n",
    "        \n",
    "        if fext in liste_ext.keys():\n",
    "            exec(\"globals()[fnom] = pd.read_\"+liste_ext[fext]+\"(fichier)\")\n",
    "            print(fichier + \": Importé dans '\"+fnom+\"'\")\n",
    "            list_df.append(fnom)\n",
    "        else:\n",
    "            print('extension non reconnu, liste compatible: ')\n",
    "            print(liste_ext)\n",
    "#findef\n",
    "\n",
    "importer('./Data_P6')"
   ]
  },
  {
   "cell_type": "code",
   "execution_count": 34,
   "id": "ac4174ec",
   "metadata": {},
   "outputs": [],
   "source": [
    "def age(année):\n",
    "    return dt.now().year - année\n",
    "\n",
    "customers.insert(3,\"age\",age(customers['birth']))\n",
    "customers.drop(columns='birth', inplace=True)"
   ]
  },
  {
   "cell_type": "markdown",
   "id": "8c2996d7",
   "metadata": {},
   "source": [
    "# Faire des liaisons et enlever les données incohérentes"
   ]
  },
  {
   "cell_type": "code",
   "execution_count": 35,
   "id": "ea66f498",
   "metadata": {},
   "outputs": [],
   "source": [
    "profils = customers.merge(transactions, how='outer', on='client_id')\n",
    "\n",
    "err_produit = profils.merge(products, how='outer', on='id_prod',indicator=True)\n",
    "err_produit = err_produit[err_produit['_merge'] != 'both']\n",
    "profils = profils.merge(products, how='inner', on='id_prod')\n",
    "\n",
    "err_prix = profils[profils['price']<0]\n",
    "profils = profils[profils['price']>=0]\n",
    "\n",
    "err_null = profils[profils.isna().sum(axis=1) > 0]\n",
    "\n",
    "#display(err_null)\n",
    "#Pas de valuer null dans le tableau\n",
    "#Les Id_sessions sont tous unique\n",
    "\n",
    "profils['date'] = pd.to_datetime(profils['date']) #Conversion en type date pour analyse futur"
   ]
  },
  {
   "cell_type": "code",
   "execution_count": 36,
   "id": "fd882175",
   "metadata": {},
   "outputs": [
    {
     "data": {
      "text/html": [
       "<div>\n",
       "<style scoped>\n",
       "    .dataframe tbody tr th:only-of-type {\n",
       "        vertical-align: middle;\n",
       "    }\n",
       "\n",
       "    .dataframe tbody tr th {\n",
       "        vertical-align: top;\n",
       "    }\n",
       "\n",
       "    .dataframe thead th {\n",
       "        text-align: right;\n",
       "    }\n",
       "</style>\n",
       "<table border=\"1\" class=\"dataframe\">\n",
       "  <thead>\n",
       "    <tr style=\"text-align: right;\">\n",
       "      <th></th>\n",
       "      <th>client_id</th>\n",
       "      <th>sex</th>\n",
       "      <th>age</th>\n",
       "      <th>id_prod</th>\n",
       "      <th>date</th>\n",
       "      <th>session_id</th>\n",
       "      <th>price</th>\n",
       "      <th>categ</th>\n",
       "      <th>_merge</th>\n",
       "    </tr>\n",
       "  </thead>\n",
       "  <tbody>\n",
       "    <tr>\n",
       "      <th>542051</th>\n",
       "      <td>c_4505</td>\n",
       "      <td>m</td>\n",
       "      <td>46.0</td>\n",
       "      <td>0_2245</td>\n",
       "      <td>2022-01-09 09:23:31.000720</td>\n",
       "      <td>s_147220</td>\n",
       "      <td>NaN</td>\n",
       "      <td>NaN</td>\n",
       "      <td>left_only</td>\n",
       "    </tr>\n",
       "    <tr>\n",
       "      <th>542052</th>\n",
       "      <td>c_4505</td>\n",
       "      <td>m</td>\n",
       "      <td>46.0</td>\n",
       "      <td>0_2245</td>\n",
       "      <td>2022-11-09 09:23:31.000720</td>\n",
       "      <td>s_295013</td>\n",
       "      <td>NaN</td>\n",
       "      <td>NaN</td>\n",
       "      <td>left_only</td>\n",
       "    </tr>\n",
       "    <tr>\n",
       "      <th>542053</th>\n",
       "      <td>c_3468</td>\n",
       "      <td>f</td>\n",
       "      <td>41.0</td>\n",
       "      <td>0_2245</td>\n",
       "      <td>2021-09-11 10:52:05.205583</td>\n",
       "      <td>s_88251</td>\n",
       "      <td>NaN</td>\n",
       "      <td>NaN</td>\n",
       "      <td>left_only</td>\n",
       "    </tr>\n",
       "    <tr>\n",
       "      <th>542054</th>\n",
       "      <td>c_3468</td>\n",
       "      <td>f</td>\n",
       "      <td>41.0</td>\n",
       "      <td>0_2245</td>\n",
       "      <td>2022-05-11 10:52:05.205583</td>\n",
       "      <td>s_206902</td>\n",
       "      <td>NaN</td>\n",
       "      <td>NaN</td>\n",
       "      <td>left_only</td>\n",
       "    </tr>\n",
       "    <tr>\n",
       "      <th>542055</th>\n",
       "      <td>c_1403</td>\n",
       "      <td>f</td>\n",
       "      <td>44.0</td>\n",
       "      <td>0_2245</td>\n",
       "      <td>2022-09-15 14:26:50.187952</td>\n",
       "      <td>s_268455</td>\n",
       "      <td>NaN</td>\n",
       "      <td>NaN</td>\n",
       "      <td>left_only</td>\n",
       "    </tr>\n",
       "    <tr>\n",
       "      <th>...</th>\n",
       "      <td>...</td>\n",
       "      <td>...</td>\n",
       "      <td>...</td>\n",
       "      <td>...</td>\n",
       "      <td>...</td>\n",
       "      <td>...</td>\n",
       "      <td>...</td>\n",
       "      <td>...</td>\n",
       "      <td>...</td>\n",
       "    </tr>\n",
       "    <tr>\n",
       "      <th>679569</th>\n",
       "      <td>NaN</td>\n",
       "      <td>NaN</td>\n",
       "      <td>NaN</td>\n",
       "      <td>0_1624</td>\n",
       "      <td>NaN</td>\n",
       "      <td>NaN</td>\n",
       "      <td>24.50</td>\n",
       "      <td>0.0</td>\n",
       "      <td>right_only</td>\n",
       "    </tr>\n",
       "    <tr>\n",
       "      <th>679570</th>\n",
       "      <td>NaN</td>\n",
       "      <td>NaN</td>\n",
       "      <td>NaN</td>\n",
       "      <td>2_86</td>\n",
       "      <td>NaN</td>\n",
       "      <td>NaN</td>\n",
       "      <td>132.36</td>\n",
       "      <td>2.0</td>\n",
       "      <td>right_only</td>\n",
       "    </tr>\n",
       "    <tr>\n",
       "      <th>679571</th>\n",
       "      <td>NaN</td>\n",
       "      <td>NaN</td>\n",
       "      <td>NaN</td>\n",
       "      <td>0_299</td>\n",
       "      <td>NaN</td>\n",
       "      <td>NaN</td>\n",
       "      <td>22.99</td>\n",
       "      <td>0.0</td>\n",
       "      <td>right_only</td>\n",
       "    </tr>\n",
       "    <tr>\n",
       "      <th>679572</th>\n",
       "      <td>NaN</td>\n",
       "      <td>NaN</td>\n",
       "      <td>NaN</td>\n",
       "      <td>0_510</td>\n",
       "      <td>NaN</td>\n",
       "      <td>NaN</td>\n",
       "      <td>23.66</td>\n",
       "      <td>0.0</td>\n",
       "      <td>right_only</td>\n",
       "    </tr>\n",
       "    <tr>\n",
       "      <th>679573</th>\n",
       "      <td>NaN</td>\n",
       "      <td>NaN</td>\n",
       "      <td>NaN</td>\n",
       "      <td>0_2308</td>\n",
       "      <td>NaN</td>\n",
       "      <td>NaN</td>\n",
       "      <td>20.28</td>\n",
       "      <td>0.0</td>\n",
       "      <td>right_only</td>\n",
       "    </tr>\n",
       "  </tbody>\n",
       "</table>\n",
       "<p>263 rows × 9 columns</p>\n",
       "</div>"
      ],
      "text/plain": [
       "       client_id  sex   age id_prod                        date session_id  \\\n",
       "542051    c_4505    m  46.0  0_2245  2022-01-09 09:23:31.000720   s_147220   \n",
       "542052    c_4505    m  46.0  0_2245  2022-11-09 09:23:31.000720   s_295013   \n",
       "542053    c_3468    f  41.0  0_2245  2021-09-11 10:52:05.205583    s_88251   \n",
       "542054    c_3468    f  41.0  0_2245  2022-05-11 10:52:05.205583   s_206902   \n",
       "542055    c_1403    f  44.0  0_2245  2022-09-15 14:26:50.187952   s_268455   \n",
       "...          ...  ...   ...     ...                         ...        ...   \n",
       "679569       NaN  NaN   NaN  0_1624                         NaN        NaN   \n",
       "679570       NaN  NaN   NaN    2_86                         NaN        NaN   \n",
       "679571       NaN  NaN   NaN   0_299                         NaN        NaN   \n",
       "679572       NaN  NaN   NaN   0_510                         NaN        NaN   \n",
       "679573       NaN  NaN   NaN  0_2308                         NaN        NaN   \n",
       "\n",
       "         price  categ      _merge  \n",
       "542051     NaN    NaN   left_only  \n",
       "542052     NaN    NaN   left_only  \n",
       "542053     NaN    NaN   left_only  \n",
       "542054     NaN    NaN   left_only  \n",
       "542055     NaN    NaN   left_only  \n",
       "...        ...    ...         ...  \n",
       "679569   24.50    0.0  right_only  \n",
       "679570  132.36    2.0  right_only  \n",
       "679571   22.99    0.0  right_only  \n",
       "679572   23.66    0.0  right_only  \n",
       "679573   20.28    0.0  right_only  \n",
       "\n",
       "[263 rows x 9 columns]"
      ]
     },
     "metadata": {},
     "output_type": "display_data"
    }
   ],
   "source": [
    "display(err_produit)"
   ]
  },
  {
   "cell_type": "code",
   "execution_count": 37,
   "id": "0969dbaa",
   "metadata": {},
   "outputs": [
    {
     "data": {
      "text/html": [
       "<div>\n",
       "<style scoped>\n",
       "    .dataframe tbody tr th:only-of-type {\n",
       "        vertical-align: middle;\n",
       "    }\n",
       "\n",
       "    .dataframe tbody tr th {\n",
       "        vertical-align: top;\n",
       "    }\n",
       "\n",
       "    .dataframe thead th {\n",
       "        text-align: right;\n",
       "    }\n",
       "</style>\n",
       "<table border=\"1\" class=\"dataframe\">\n",
       "  <thead>\n",
       "    <tr style=\"text-align: right;\">\n",
       "      <th></th>\n",
       "      <th>client_id</th>\n",
       "      <th>sex</th>\n",
       "      <th>age</th>\n",
       "      <th>id_prod</th>\n",
       "      <th>date</th>\n",
       "      <th>session_id</th>\n",
       "      <th>price</th>\n",
       "      <th>categ</th>\n",
       "    </tr>\n",
       "  </thead>\n",
       "  <tbody>\n",
       "    <tr>\n",
       "      <th>677888</th>\n",
       "      <td>ct_0</td>\n",
       "      <td>f</td>\n",
       "      <td>21</td>\n",
       "      <td>T_0</td>\n",
       "      <td>test_2021-03-01 02:30:02.237419</td>\n",
       "      <td>s_0</td>\n",
       "      <td>-1.0</td>\n",
       "      <td>0</td>\n",
       "    </tr>\n",
       "    <tr>\n",
       "      <th>677889</th>\n",
       "      <td>ct_0</td>\n",
       "      <td>f</td>\n",
       "      <td>21</td>\n",
       "      <td>T_0</td>\n",
       "      <td>test_2021-03-01 02:30:02.237425</td>\n",
       "      <td>s_0</td>\n",
       "      <td>-1.0</td>\n",
       "      <td>0</td>\n",
       "    </tr>\n",
       "    <tr>\n",
       "      <th>677890</th>\n",
       "      <td>ct_0</td>\n",
       "      <td>f</td>\n",
       "      <td>21</td>\n",
       "      <td>T_0</td>\n",
       "      <td>test_2021-03-01 02:30:02.237436</td>\n",
       "      <td>s_0</td>\n",
       "      <td>-1.0</td>\n",
       "      <td>0</td>\n",
       "    </tr>\n",
       "    <tr>\n",
       "      <th>677891</th>\n",
       "      <td>ct_0</td>\n",
       "      <td>f</td>\n",
       "      <td>21</td>\n",
       "      <td>T_0</td>\n",
       "      <td>test_2021-03-01 02:30:02.237430</td>\n",
       "      <td>s_0</td>\n",
       "      <td>-1.0</td>\n",
       "      <td>0</td>\n",
       "    </tr>\n",
       "    <tr>\n",
       "      <th>677892</th>\n",
       "      <td>ct_0</td>\n",
       "      <td>f</td>\n",
       "      <td>21</td>\n",
       "      <td>T_0</td>\n",
       "      <td>test_2021-03-01 02:30:02.237449</td>\n",
       "      <td>s_0</td>\n",
       "      <td>-1.0</td>\n",
       "      <td>0</td>\n",
       "    </tr>\n",
       "    <tr>\n",
       "      <th>...</th>\n",
       "      <td>...</td>\n",
       "      <td>...</td>\n",
       "      <td>...</td>\n",
       "      <td>...</td>\n",
       "      <td>...</td>\n",
       "      <td>...</td>\n",
       "      <td>...</td>\n",
       "      <td>...</td>\n",
       "    </tr>\n",
       "    <tr>\n",
       "      <th>678083</th>\n",
       "      <td>ct_1</td>\n",
       "      <td>m</td>\n",
       "      <td>21</td>\n",
       "      <td>T_0</td>\n",
       "      <td>test_2021-03-01 02:30:02.237420</td>\n",
       "      <td>s_0</td>\n",
       "      <td>-1.0</td>\n",
       "      <td>0</td>\n",
       "    </tr>\n",
       "    <tr>\n",
       "      <th>678084</th>\n",
       "      <td>ct_1</td>\n",
       "      <td>m</td>\n",
       "      <td>21</td>\n",
       "      <td>T_0</td>\n",
       "      <td>test_2021-03-01 02:30:02.237427</td>\n",
       "      <td>s_0</td>\n",
       "      <td>-1.0</td>\n",
       "      <td>0</td>\n",
       "    </tr>\n",
       "    <tr>\n",
       "      <th>678085</th>\n",
       "      <td>ct_1</td>\n",
       "      <td>m</td>\n",
       "      <td>21</td>\n",
       "      <td>T_0</td>\n",
       "      <td>test_2021-03-01 02:30:02.237449</td>\n",
       "      <td>s_0</td>\n",
       "      <td>-1.0</td>\n",
       "      <td>0</td>\n",
       "    </tr>\n",
       "    <tr>\n",
       "      <th>678086</th>\n",
       "      <td>ct_1</td>\n",
       "      <td>m</td>\n",
       "      <td>21</td>\n",
       "      <td>T_0</td>\n",
       "      <td>test_2021-03-01 02:30:02.237424</td>\n",
       "      <td>s_0</td>\n",
       "      <td>-1.0</td>\n",
       "      <td>0</td>\n",
       "    </tr>\n",
       "    <tr>\n",
       "      <th>678087</th>\n",
       "      <td>ct_1</td>\n",
       "      <td>m</td>\n",
       "      <td>21</td>\n",
       "      <td>T_0</td>\n",
       "      <td>test_2021-03-01 02:30:02.237425</td>\n",
       "      <td>s_0</td>\n",
       "      <td>-1.0</td>\n",
       "      <td>0</td>\n",
       "    </tr>\n",
       "  </tbody>\n",
       "</table>\n",
       "<p>200 rows × 8 columns</p>\n",
       "</div>"
      ],
      "text/plain": [
       "       client_id sex  age id_prod                             date session_id  \\\n",
       "677888      ct_0   f   21     T_0  test_2021-03-01 02:30:02.237419        s_0   \n",
       "677889      ct_0   f   21     T_0  test_2021-03-01 02:30:02.237425        s_0   \n",
       "677890      ct_0   f   21     T_0  test_2021-03-01 02:30:02.237436        s_0   \n",
       "677891      ct_0   f   21     T_0  test_2021-03-01 02:30:02.237430        s_0   \n",
       "677892      ct_0   f   21     T_0  test_2021-03-01 02:30:02.237449        s_0   \n",
       "...          ...  ..  ...     ...                              ...        ...   \n",
       "678083      ct_1   m   21     T_0  test_2021-03-01 02:30:02.237420        s_0   \n",
       "678084      ct_1   m   21     T_0  test_2021-03-01 02:30:02.237427        s_0   \n",
       "678085      ct_1   m   21     T_0  test_2021-03-01 02:30:02.237449        s_0   \n",
       "678086      ct_1   m   21     T_0  test_2021-03-01 02:30:02.237424        s_0   \n",
       "678087      ct_1   m   21     T_0  test_2021-03-01 02:30:02.237425        s_0   \n",
       "\n",
       "        price  categ  \n",
       "677888   -1.0      0  \n",
       "677889   -1.0      0  \n",
       "677890   -1.0      0  \n",
       "677891   -1.0      0  \n",
       "677892   -1.0      0  \n",
       "...       ...    ...  \n",
       "678083   -1.0      0  \n",
       "678084   -1.0      0  \n",
       "678085   -1.0      0  \n",
       "678086   -1.0      0  \n",
       "678087   -1.0      0  \n",
       "\n",
       "[200 rows x 8 columns]"
      ]
     },
     "metadata": {},
     "output_type": "display_data"
    }
   ],
   "source": [
    "display(err_prix)\n",
    "# Le produit 'T_0' a un prix négatif (-1)\n",
    "# C'est un produit de test effectué le 01-03-2021 à 2h30:02"
   ]
  },
  {
   "cell_type": "markdown",
   "id": "94c8cc4a",
   "metadata": {},
   "source": [
    "# Tableau des profils"
   ]
  },
  {
   "cell_type": "code",
   "execution_count": 38,
   "id": "5766a4e1",
   "metadata": {},
   "outputs": [
    {
     "data": {
      "text/html": [
       "<div>\n",
       "<style scoped>\n",
       "    .dataframe tbody tr th:only-of-type {\n",
       "        vertical-align: middle;\n",
       "    }\n",
       "\n",
       "    .dataframe tbody tr th {\n",
       "        vertical-align: top;\n",
       "    }\n",
       "\n",
       "    .dataframe thead th {\n",
       "        text-align: right;\n",
       "    }\n",
       "</style>\n",
       "<table border=\"1\" class=\"dataframe\">\n",
       "  <thead>\n",
       "    <tr style=\"text-align: right;\">\n",
       "      <th></th>\n",
       "      <th>client_id</th>\n",
       "      <th>sex</th>\n",
       "      <th>age</th>\n",
       "      <th>id_prod</th>\n",
       "      <th>date</th>\n",
       "      <th>session_id</th>\n",
       "      <th>price</th>\n",
       "      <th>categ</th>\n",
       "    </tr>\n",
       "  </thead>\n",
       "  <tbody>\n",
       "    <tr>\n",
       "      <th>129502</th>\n",
       "      <td>c_329</td>\n",
       "      <td>f</td>\n",
       "      <td>55</td>\n",
       "      <td>0_1259</td>\n",
       "      <td>2021-03-01 00:01:07.843138</td>\n",
       "      <td>s_1</td>\n",
       "      <td>11.99</td>\n",
       "      <td>0</td>\n",
       "    </tr>\n",
       "    <tr>\n",
       "      <th>17306</th>\n",
       "      <td>c_664</td>\n",
       "      <td>m</td>\n",
       "      <td>62</td>\n",
       "      <td>0_1390</td>\n",
       "      <td>2021-03-01 00:02:26.047414</td>\n",
       "      <td>s_2</td>\n",
       "      <td>19.37</td>\n",
       "      <td>0</td>\n",
       "    </tr>\n",
       "    <tr>\n",
       "      <th>146527</th>\n",
       "      <td>c_580</td>\n",
       "      <td>m</td>\n",
       "      <td>34</td>\n",
       "      <td>0_1352</td>\n",
       "      <td>2021-03-01 00:02:38.311413</td>\n",
       "      <td>s_3</td>\n",
       "      <td>4.50</td>\n",
       "      <td>0</td>\n",
       "    </tr>\n",
       "    <tr>\n",
       "      <th>506717</th>\n",
       "      <td>c_7912</td>\n",
       "      <td>f</td>\n",
       "      <td>33</td>\n",
       "      <td>0_1458</td>\n",
       "      <td>2021-03-01 00:04:54.559692</td>\n",
       "      <td>s_4</td>\n",
       "      <td>6.55</td>\n",
       "      <td>0</td>\n",
       "    </tr>\n",
       "    <tr>\n",
       "      <th>218220</th>\n",
       "      <td>c_2033</td>\n",
       "      <td>f</td>\n",
       "      <td>66</td>\n",
       "      <td>0_1358</td>\n",
       "      <td>2021-03-01 00:05:18.801198</td>\n",
       "      <td>s_5</td>\n",
       "      <td>16.49</td>\n",
       "      <td>0</td>\n",
       "    </tr>\n",
       "    <tr>\n",
       "      <th>...</th>\n",
       "      <td>...</td>\n",
       "      <td>...</td>\n",
       "      <td>...</td>\n",
       "      <td>...</td>\n",
       "      <td>...</td>\n",
       "      <td>...</td>\n",
       "      <td>...</td>\n",
       "      <td>...</td>\n",
       "    </tr>\n",
       "    <tr>\n",
       "      <th>614783</th>\n",
       "      <td>c_3573</td>\n",
       "      <td>f</td>\n",
       "      <td>26</td>\n",
       "      <td>1_508</td>\n",
       "      <td>2023-02-28 23:49:03.148402</td>\n",
       "      <td>s_348444</td>\n",
       "      <td>21.92</td>\n",
       "      <td>1</td>\n",
       "    </tr>\n",
       "    <tr>\n",
       "      <th>125522</th>\n",
       "      <td>c_50</td>\n",
       "      <td>f</td>\n",
       "      <td>28</td>\n",
       "      <td>2_37</td>\n",
       "      <td>2023-02-28 23:51:29.318531</td>\n",
       "      <td>s_348445</td>\n",
       "      <td>48.99</td>\n",
       "      <td>2</td>\n",
       "    </tr>\n",
       "    <tr>\n",
       "      <th>425822</th>\n",
       "      <td>c_488</td>\n",
       "      <td>f</td>\n",
       "      <td>37</td>\n",
       "      <td>1_695</td>\n",
       "      <td>2023-02-28 23:53:18.929676</td>\n",
       "      <td>s_348446</td>\n",
       "      <td>26.99</td>\n",
       "      <td>1</td>\n",
       "    </tr>\n",
       "    <tr>\n",
       "      <th>374054</th>\n",
       "      <td>c_4848</td>\n",
       "      <td>m</td>\n",
       "      <td>69</td>\n",
       "      <td>0_1547</td>\n",
       "      <td>2023-02-28 23:58:00.107815</td>\n",
       "      <td>s_348447</td>\n",
       "      <td>8.99</td>\n",
       "      <td>0</td>\n",
       "    </tr>\n",
       "    <tr>\n",
       "      <th>423150</th>\n",
       "      <td>c_3575</td>\n",
       "      <td>f</td>\n",
       "      <td>41</td>\n",
       "      <td>0_1398</td>\n",
       "      <td>2023-02-28 23:58:30.792755</td>\n",
       "      <td>s_348435</td>\n",
       "      <td>4.52</td>\n",
       "      <td>0</td>\n",
       "    </tr>\n",
       "  </tbody>\n",
       "</table>\n",
       "<p>679111 rows × 8 columns</p>\n",
       "</div>"
      ],
      "text/plain": [
       "       client_id sex  age id_prod                       date session_id  \\\n",
       "129502     c_329   f   55  0_1259 2021-03-01 00:01:07.843138        s_1   \n",
       "17306      c_664   m   62  0_1390 2021-03-01 00:02:26.047414        s_2   \n",
       "146527     c_580   m   34  0_1352 2021-03-01 00:02:38.311413        s_3   \n",
       "506717    c_7912   f   33  0_1458 2021-03-01 00:04:54.559692        s_4   \n",
       "218220    c_2033   f   66  0_1358 2021-03-01 00:05:18.801198        s_5   \n",
       "...          ...  ..  ...     ...                        ...        ...   \n",
       "614783    c_3573   f   26   1_508 2023-02-28 23:49:03.148402   s_348444   \n",
       "125522      c_50   f   28    2_37 2023-02-28 23:51:29.318531   s_348445   \n",
       "425822     c_488   f   37   1_695 2023-02-28 23:53:18.929676   s_348446   \n",
       "374054    c_4848   m   69  0_1547 2023-02-28 23:58:00.107815   s_348447   \n",
       "423150    c_3575   f   41  0_1398 2023-02-28 23:58:30.792755   s_348435   \n",
       "\n",
       "        price  categ  \n",
       "129502  11.99      0  \n",
       "17306   19.37      0  \n",
       "146527   4.50      0  \n",
       "506717   6.55      0  \n",
       "218220  16.49      0  \n",
       "...       ...    ...  \n",
       "614783  21.92      1  \n",
       "125522  48.99      2  \n",
       "425822  26.99      1  \n",
       "374054   8.99      0  \n",
       "423150   4.52      0  \n",
       "\n",
       "[679111 rows x 8 columns]"
      ]
     },
     "metadata": {},
     "output_type": "display_data"
    }
   ],
   "source": [
    "profils = profils.sort_values(by='date',ascending=True)\n",
    "display(profils)"
   ]
  },
  {
   "cell_type": "markdown",
   "id": "d7116a45",
   "metadata": {},
   "source": [
    "# Chiffre d'affaire par produit"
   ]
  },
  {
   "cell_type": "code",
   "execution_count": 39,
   "id": "13be239a",
   "metadata": {},
   "outputs": [
    {
     "data": {
      "text/plain": [
       "3267"
      ]
     },
     "metadata": {},
     "output_type": "display_data"
    }
   ],
   "source": [
    "# Compter le nombre de fois qu'un produit apparait dans le fichier transaction et calculer le CA\n",
    "\n",
    "nb_vente = transactions.groupby(['id_prod']).count().loc[:,['client_id']]\n",
    "nb_vente = nb_vente.rename(columns={'client_id':'nb_vente'})\n",
    "\n",
    "ventes = nb_vente.merge(products,how='outer', on='id_prod', indicator=True)\n",
    "ventes = ventes[ventes['_merge'] == 'both']\n",
    "\n",
    "ventes.insert(2,\"CA\", ventes['price']*ventes['nb_vente'])\n",
    "ventes.drop(columns=['_merge'],inplace=True)\n",
    "ventes = ventes[ventes['id_prod'] != 'T_0']\n",
    "\n",
    "display(len(transactions['id_prod'].unique()))"
   ]
  },
  {
   "cell_type": "markdown",
   "id": "b98b71da",
   "metadata": {},
   "source": [
    "# Le top 20 des ventes"
   ]
  },
  {
   "cell_type": "code",
   "execution_count": 40,
   "id": "e1fa7c55",
   "metadata": {},
   "outputs": [
    {
     "data": {
      "text/html": [
       "<div>\n",
       "<style scoped>\n",
       "    .dataframe tbody tr th:only-of-type {\n",
       "        vertical-align: middle;\n",
       "    }\n",
       "\n",
       "    .dataframe tbody tr th {\n",
       "        vertical-align: top;\n",
       "    }\n",
       "\n",
       "    .dataframe thead th {\n",
       "        text-align: right;\n",
       "    }\n",
       "</style>\n",
       "<table border=\"1\" class=\"dataframe\">\n",
       "  <thead>\n",
       "    <tr style=\"text-align: right;\">\n",
       "      <th></th>\n",
       "      <th>id_prod</th>\n",
       "      <th>nb_vente</th>\n",
       "      <th>CA</th>\n",
       "      <th>price</th>\n",
       "      <th>categ</th>\n",
       "    </tr>\n",
       "  </thead>\n",
       "  <tbody>\n",
       "    <tr>\n",
       "      <th>2592</th>\n",
       "      <td>1_369</td>\n",
       "      <td>2252.0</td>\n",
       "      <td>54025.48</td>\n",
       "      <td>23.99</td>\n",
       "      <td>1.0</td>\n",
       "    </tr>\n",
       "    <tr>\n",
       "      <th>2645</th>\n",
       "      <td>1_417</td>\n",
       "      <td>2189.0</td>\n",
       "      <td>45947.11</td>\n",
       "      <td>20.99</td>\n",
       "      <td>1.0</td>\n",
       "    </tr>\n",
       "    <tr>\n",
       "      <th>2642</th>\n",
       "      <td>1_414</td>\n",
       "      <td>2180.0</td>\n",
       "      <td>51949.40</td>\n",
       "      <td>23.83</td>\n",
       "      <td>1.0</td>\n",
       "    </tr>\n",
       "    <tr>\n",
       "      <th>2734</th>\n",
       "      <td>1_498</td>\n",
       "      <td>2128.0</td>\n",
       "      <td>49731.36</td>\n",
       "      <td>23.37</td>\n",
       "      <td>1.0</td>\n",
       "    </tr>\n",
       "    <tr>\n",
       "      <th>2654</th>\n",
       "      <td>1_425</td>\n",
       "      <td>2096.0</td>\n",
       "      <td>35611.04</td>\n",
       "      <td>16.99</td>\n",
       "      <td>1.0</td>\n",
       "    </tr>\n",
       "    <tr>\n",
       "      <th>2630</th>\n",
       "      <td>1_403</td>\n",
       "      <td>1960.0</td>\n",
       "      <td>35260.40</td>\n",
       "      <td>17.99</td>\n",
       "      <td>1.0</td>\n",
       "    </tr>\n",
       "    <tr>\n",
       "      <th>2640</th>\n",
       "      <td>1_412</td>\n",
       "      <td>1951.0</td>\n",
       "      <td>32484.15</td>\n",
       "      <td>16.65</td>\n",
       "      <td>1.0</td>\n",
       "    </tr>\n",
       "    <tr>\n",
       "      <th>2641</th>\n",
       "      <td>1_413</td>\n",
       "      <td>1945.0</td>\n",
       "      <td>34990.55</td>\n",
       "      <td>17.99</td>\n",
       "      <td>1.0</td>\n",
       "    </tr>\n",
       "    <tr>\n",
       "      <th>2633</th>\n",
       "      <td>1_406</td>\n",
       "      <td>1939.0</td>\n",
       "      <td>48106.59</td>\n",
       "      <td>24.81</td>\n",
       "      <td>1.0</td>\n",
       "    </tr>\n",
       "    <tr>\n",
       "      <th>2634</th>\n",
       "      <td>1_407</td>\n",
       "      <td>1935.0</td>\n",
       "      <td>30940.65</td>\n",
       "      <td>15.99</td>\n",
       "      <td>1.0</td>\n",
       "    </tr>\n",
       "    <tr>\n",
       "      <th>2621</th>\n",
       "      <td>1_396</td>\n",
       "      <td>1921.0</td>\n",
       "      <td>35730.60</td>\n",
       "      <td>18.60</td>\n",
       "      <td>1.0</td>\n",
       "    </tr>\n",
       "    <tr>\n",
       "      <th>2623</th>\n",
       "      <td>1_398</td>\n",
       "      <td>1917.0</td>\n",
       "      <td>19495.89</td>\n",
       "      <td>10.17</td>\n",
       "      <td>1.0</td>\n",
       "    </tr>\n",
       "    <tr>\n",
       "      <th>2620</th>\n",
       "      <td>1_395</td>\n",
       "      <td>1875.0</td>\n",
       "      <td>54356.25</td>\n",
       "      <td>28.99</td>\n",
       "      <td>1.0</td>\n",
       "    </tr>\n",
       "    <tr>\n",
       "      <th>2627</th>\n",
       "      <td>1_400</td>\n",
       "      <td>1839.0</td>\n",
       "      <td>30527.40</td>\n",
       "      <td>16.60</td>\n",
       "      <td>1.0</td>\n",
       "    </tr>\n",
       "    <tr>\n",
       "      <th>2618</th>\n",
       "      <td>1_392</td>\n",
       "      <td>1825.0</td>\n",
       "      <td>33050.75</td>\n",
       "      <td>18.11</td>\n",
       "      <td>1.0</td>\n",
       "    </tr>\n",
       "    <tr>\n",
       "      <th>2600</th>\n",
       "      <td>1_376</td>\n",
       "      <td>1809.0</td>\n",
       "      <td>31639.41</td>\n",
       "      <td>17.49</td>\n",
       "      <td>1.0</td>\n",
       "    </tr>\n",
       "    <tr>\n",
       "      <th>2622</th>\n",
       "      <td>1_397</td>\n",
       "      <td>1799.0</td>\n",
       "      <td>34163.01</td>\n",
       "      <td>18.99</td>\n",
       "      <td>1.0</td>\n",
       "    </tr>\n",
       "    <tr>\n",
       "      <th>2610</th>\n",
       "      <td>1_385</td>\n",
       "      <td>1798.0</td>\n",
       "      <td>46730.02</td>\n",
       "      <td>25.99</td>\n",
       "      <td>1.0</td>\n",
       "    </tr>\n",
       "    <tr>\n",
       "      <th>2613</th>\n",
       "      <td>1_388</td>\n",
       "      <td>1792.0</td>\n",
       "      <td>29926.40</td>\n",
       "      <td>16.70</td>\n",
       "      <td>1.0</td>\n",
       "    </tr>\n",
       "    <tr>\n",
       "      <th>2606</th>\n",
       "      <td>1_381</td>\n",
       "      <td>1781.0</td>\n",
       "      <td>28478.19</td>\n",
       "      <td>15.99</td>\n",
       "      <td>1.0</td>\n",
       "    </tr>\n",
       "  </tbody>\n",
       "</table>\n",
       "</div>"
      ],
      "text/plain": [
       "     id_prod  nb_vente        CA  price  categ\n",
       "2592   1_369    2252.0  54025.48  23.99    1.0\n",
       "2645   1_417    2189.0  45947.11  20.99    1.0\n",
       "2642   1_414    2180.0  51949.40  23.83    1.0\n",
       "2734   1_498    2128.0  49731.36  23.37    1.0\n",
       "2654   1_425    2096.0  35611.04  16.99    1.0\n",
       "2630   1_403    1960.0  35260.40  17.99    1.0\n",
       "2640   1_412    1951.0  32484.15  16.65    1.0\n",
       "2641   1_413    1945.0  34990.55  17.99    1.0\n",
       "2633   1_406    1939.0  48106.59  24.81    1.0\n",
       "2634   1_407    1935.0  30940.65  15.99    1.0\n",
       "2621   1_396    1921.0  35730.60  18.60    1.0\n",
       "2623   1_398    1917.0  19495.89  10.17    1.0\n",
       "2620   1_395    1875.0  54356.25  28.99    1.0\n",
       "2627   1_400    1839.0  30527.40  16.60    1.0\n",
       "2618   1_392    1825.0  33050.75  18.11    1.0\n",
       "2600   1_376    1809.0  31639.41  17.49    1.0\n",
       "2622   1_397    1799.0  34163.01  18.99    1.0\n",
       "2610   1_385    1798.0  46730.02  25.99    1.0\n",
       "2613   1_388    1792.0  29926.40  16.70    1.0\n",
       "2606   1_381    1781.0  28478.19  15.99    1.0"
      ]
     },
     "metadata": {},
     "output_type": "display_data"
    }
   ],
   "source": [
    "display(ventes.sort_values(by='nb_vente',ascending=False).head(20))"
   ]
  },
  {
   "cell_type": "markdown",
   "id": "0c0f7df1",
   "metadata": {},
   "source": [
    "# Le flop 20 des ventes"
   ]
  },
  {
   "cell_type": "code",
   "execution_count": 41,
   "id": "00bb3f5d",
   "metadata": {},
   "outputs": [
    {
     "data": {
      "text/html": [
       "<div>\n",
       "<style scoped>\n",
       "    .dataframe tbody tr th:only-of-type {\n",
       "        vertical-align: middle;\n",
       "    }\n",
       "\n",
       "    .dataframe tbody tr th {\n",
       "        vertical-align: top;\n",
       "    }\n",
       "\n",
       "    .dataframe thead th {\n",
       "        text-align: right;\n",
       "    }\n",
       "</style>\n",
       "<table border=\"1\" class=\"dataframe\">\n",
       "  <thead>\n",
       "    <tr style=\"text-align: right;\">\n",
       "      <th></th>\n",
       "      <th>id_prod</th>\n",
       "      <th>nb_vente</th>\n",
       "      <th>CA</th>\n",
       "      <th>price</th>\n",
       "      <th>categ</th>\n",
       "    </tr>\n",
       "  </thead>\n",
       "  <tbody>\n",
       "    <tr>\n",
       "      <th>1327</th>\n",
       "      <td>0_2201</td>\n",
       "      <td>1.0</td>\n",
       "      <td>20.99</td>\n",
       "      <td>20.99</td>\n",
       "      <td>0.0</td>\n",
       "    </tr>\n",
       "    <tr>\n",
       "      <th>665</th>\n",
       "      <td>0_1601</td>\n",
       "      <td>1.0</td>\n",
       "      <td>1.99</td>\n",
       "      <td>1.99</td>\n",
       "      <td>0.0</td>\n",
       "    </tr>\n",
       "    <tr>\n",
       "      <th>1793</th>\n",
       "      <td>0_549</td>\n",
       "      <td>1.0</td>\n",
       "      <td>2.99</td>\n",
       "      <td>2.99</td>\n",
       "      <td>0.0</td>\n",
       "    </tr>\n",
       "    <tr>\n",
       "      <th>3248</th>\n",
       "      <td>2_81</td>\n",
       "      <td>1.0</td>\n",
       "      <td>86.99</td>\n",
       "      <td>86.99</td>\n",
       "      <td>2.0</td>\n",
       "    </tr>\n",
       "    <tr>\n",
       "      <th>2080</th>\n",
       "      <td>0_807</td>\n",
       "      <td>1.0</td>\n",
       "      <td>1.99</td>\n",
       "      <td>1.99</td>\n",
       "      <td>0.0</td>\n",
       "    </tr>\n",
       "    <tr>\n",
       "      <th>752</th>\n",
       "      <td>0_1683</td>\n",
       "      <td>1.0</td>\n",
       "      <td>2.99</td>\n",
       "      <td>2.99</td>\n",
       "      <td>0.0</td>\n",
       "    </tr>\n",
       "    <tr>\n",
       "      <th>166</th>\n",
       "      <td>0_1151</td>\n",
       "      <td>1.0</td>\n",
       "      <td>2.99</td>\n",
       "      <td>2.99</td>\n",
       "      <td>0.0</td>\n",
       "    </tr>\n",
       "    <tr>\n",
       "      <th>698</th>\n",
       "      <td>0_1633</td>\n",
       "      <td>1.0</td>\n",
       "      <td>24.99</td>\n",
       "      <td>24.99</td>\n",
       "      <td>0.0</td>\n",
       "    </tr>\n",
       "    <tr>\n",
       "      <th>2109</th>\n",
       "      <td>0_833</td>\n",
       "      <td>1.0</td>\n",
       "      <td>2.99</td>\n",
       "      <td>2.99</td>\n",
       "      <td>0.0</td>\n",
       "    </tr>\n",
       "    <tr>\n",
       "      <th>2167</th>\n",
       "      <td>0_886</td>\n",
       "      <td>1.0</td>\n",
       "      <td>21.82</td>\n",
       "      <td>21.82</td>\n",
       "      <td>0.0</td>\n",
       "    </tr>\n",
       "    <tr>\n",
       "      <th>1785</th>\n",
       "      <td>0_541</td>\n",
       "      <td>1.0</td>\n",
       "      <td>1.99</td>\n",
       "      <td>1.99</td>\n",
       "      <td>0.0</td>\n",
       "    </tr>\n",
       "    <tr>\n",
       "      <th>3176</th>\n",
       "      <td>2_23</td>\n",
       "      <td>1.0</td>\n",
       "      <td>115.99</td>\n",
       "      <td>115.99</td>\n",
       "      <td>2.0</td>\n",
       "    </tr>\n",
       "    <tr>\n",
       "      <th>417</th>\n",
       "      <td>0_1379</td>\n",
       "      <td>1.0</td>\n",
       "      <td>2.99</td>\n",
       "      <td>2.99</td>\n",
       "      <td>0.0</td>\n",
       "    </tr>\n",
       "    <tr>\n",
       "      <th>313</th>\n",
       "      <td>0_1284</td>\n",
       "      <td>1.0</td>\n",
       "      <td>1.38</td>\n",
       "      <td>1.38</td>\n",
       "      <td>0.0</td>\n",
       "    </tr>\n",
       "    <tr>\n",
       "      <th>3264</th>\n",
       "      <td>2_98</td>\n",
       "      <td>1.0</td>\n",
       "      <td>149.74</td>\n",
       "      <td>149.74</td>\n",
       "      <td>2.0</td>\n",
       "    </tr>\n",
       "    <tr>\n",
       "      <th>595</th>\n",
       "      <td>0_1539</td>\n",
       "      <td>1.0</td>\n",
       "      <td>0.99</td>\n",
       "      <td>0.99</td>\n",
       "      <td>0.0</td>\n",
       "    </tr>\n",
       "    <tr>\n",
       "      <th>802</th>\n",
       "      <td>0_1728</td>\n",
       "      <td>1.0</td>\n",
       "      <td>2.27</td>\n",
       "      <td>2.27</td>\n",
       "      <td>0.0</td>\n",
       "    </tr>\n",
       "    <tr>\n",
       "      <th>549</th>\n",
       "      <td>0_1498</td>\n",
       "      <td>1.0</td>\n",
       "      <td>2.48</td>\n",
       "      <td>2.48</td>\n",
       "      <td>0.0</td>\n",
       "    </tr>\n",
       "    <tr>\n",
       "      <th>2629</th>\n",
       "      <td>1_402</td>\n",
       "      <td>2.0</td>\n",
       "      <td>69.04</td>\n",
       "      <td>34.52</td>\n",
       "      <td>1.0</td>\n",
       "    </tr>\n",
       "    <tr>\n",
       "      <th>589</th>\n",
       "      <td>0_1533</td>\n",
       "      <td>2.0</td>\n",
       "      <td>55.98</td>\n",
       "      <td>27.99</td>\n",
       "      <td>0.0</td>\n",
       "    </tr>\n",
       "  </tbody>\n",
       "</table>\n",
       "</div>"
      ],
      "text/plain": [
       "     id_prod  nb_vente      CA   price  categ\n",
       "1327  0_2201       1.0   20.99   20.99    0.0\n",
       "665   0_1601       1.0    1.99    1.99    0.0\n",
       "1793   0_549       1.0    2.99    2.99    0.0\n",
       "3248    2_81       1.0   86.99   86.99    2.0\n",
       "2080   0_807       1.0    1.99    1.99    0.0\n",
       "752   0_1683       1.0    2.99    2.99    0.0\n",
       "166   0_1151       1.0    2.99    2.99    0.0\n",
       "698   0_1633       1.0   24.99   24.99    0.0\n",
       "2109   0_833       1.0    2.99    2.99    0.0\n",
       "2167   0_886       1.0   21.82   21.82    0.0\n",
       "1785   0_541       1.0    1.99    1.99    0.0\n",
       "3176    2_23       1.0  115.99  115.99    2.0\n",
       "417   0_1379       1.0    2.99    2.99    0.0\n",
       "313   0_1284       1.0    1.38    1.38    0.0\n",
       "3264    2_98       1.0  149.74  149.74    2.0\n",
       "595   0_1539       1.0    0.99    0.99    0.0\n",
       "802   0_1728       1.0    2.27    2.27    0.0\n",
       "549   0_1498       1.0    2.48    2.48    0.0\n",
       "2629   1_402       2.0   69.04   34.52    1.0\n",
       "589   0_1533       2.0   55.98   27.99    0.0"
      ]
     },
     "metadata": {},
     "output_type": "display_data"
    }
   ],
   "source": [
    "display(ventes.sort_values(by='nb_vente',ascending=True).head(20))"
   ]
  },
  {
   "cell_type": "markdown",
   "id": "6ec6a916",
   "metadata": {},
   "source": [
    "# Les 0 ventes"
   ]
  },
  {
   "cell_type": "code",
   "execution_count": 42,
   "id": "4ceb8ac1",
   "metadata": {},
   "outputs": [
    {
     "data": {
      "text/html": [
       "<div>\n",
       "<style scoped>\n",
       "    .dataframe tbody tr th:only-of-type {\n",
       "        vertical-align: middle;\n",
       "    }\n",
       "\n",
       "    .dataframe tbody tr th {\n",
       "        vertical-align: top;\n",
       "    }\n",
       "\n",
       "    .dataframe thead th {\n",
       "        text-align: right;\n",
       "    }\n",
       "</style>\n",
       "<table border=\"1\" class=\"dataframe\">\n",
       "  <thead>\n",
       "    <tr style=\"text-align: right;\">\n",
       "      <th></th>\n",
       "      <th>client_id</th>\n",
       "      <th>sex</th>\n",
       "      <th>age</th>\n",
       "      <th>id_prod</th>\n",
       "      <th>date</th>\n",
       "      <th>session_id</th>\n",
       "      <th>price</th>\n",
       "      <th>categ</th>\n",
       "      <th>_merge</th>\n",
       "    </tr>\n",
       "  </thead>\n",
       "  <tbody>\n",
       "    <tr>\n",
       "      <th>679553</th>\n",
       "      <td>NaN</td>\n",
       "      <td>NaN</td>\n",
       "      <td>NaN</td>\n",
       "      <td>0_1016</td>\n",
       "      <td>NaN</td>\n",
       "      <td>NaN</td>\n",
       "      <td>35.06</td>\n",
       "      <td>0.0</td>\n",
       "      <td>right_only</td>\n",
       "    </tr>\n",
       "    <tr>\n",
       "      <th>679554</th>\n",
       "      <td>NaN</td>\n",
       "      <td>NaN</td>\n",
       "      <td>NaN</td>\n",
       "      <td>0_1780</td>\n",
       "      <td>NaN</td>\n",
       "      <td>NaN</td>\n",
       "      <td>1.67</td>\n",
       "      <td>0.0</td>\n",
       "      <td>right_only</td>\n",
       "    </tr>\n",
       "    <tr>\n",
       "      <th>679555</th>\n",
       "      <td>NaN</td>\n",
       "      <td>NaN</td>\n",
       "      <td>NaN</td>\n",
       "      <td>0_1062</td>\n",
       "      <td>NaN</td>\n",
       "      <td>NaN</td>\n",
       "      <td>20.08</td>\n",
       "      <td>0.0</td>\n",
       "      <td>right_only</td>\n",
       "    </tr>\n",
       "    <tr>\n",
       "      <th>679556</th>\n",
       "      <td>NaN</td>\n",
       "      <td>NaN</td>\n",
       "      <td>NaN</td>\n",
       "      <td>0_1119</td>\n",
       "      <td>NaN</td>\n",
       "      <td>NaN</td>\n",
       "      <td>2.99</td>\n",
       "      <td>0.0</td>\n",
       "      <td>right_only</td>\n",
       "    </tr>\n",
       "    <tr>\n",
       "      <th>679557</th>\n",
       "      <td>NaN</td>\n",
       "      <td>NaN</td>\n",
       "      <td>NaN</td>\n",
       "      <td>0_1014</td>\n",
       "      <td>NaN</td>\n",
       "      <td>NaN</td>\n",
       "      <td>1.15</td>\n",
       "      <td>0.0</td>\n",
       "      <td>right_only</td>\n",
       "    </tr>\n",
       "    <tr>\n",
       "      <th>679558</th>\n",
       "      <td>NaN</td>\n",
       "      <td>NaN</td>\n",
       "      <td>NaN</td>\n",
       "      <td>1_0</td>\n",
       "      <td>NaN</td>\n",
       "      <td>NaN</td>\n",
       "      <td>31.82</td>\n",
       "      <td>1.0</td>\n",
       "      <td>right_only</td>\n",
       "    </tr>\n",
       "    <tr>\n",
       "      <th>679559</th>\n",
       "      <td>NaN</td>\n",
       "      <td>NaN</td>\n",
       "      <td>NaN</td>\n",
       "      <td>0_1318</td>\n",
       "      <td>NaN</td>\n",
       "      <td>NaN</td>\n",
       "      <td>20.92</td>\n",
       "      <td>0.0</td>\n",
       "      <td>right_only</td>\n",
       "    </tr>\n",
       "    <tr>\n",
       "      <th>679560</th>\n",
       "      <td>NaN</td>\n",
       "      <td>NaN</td>\n",
       "      <td>NaN</td>\n",
       "      <td>0_1800</td>\n",
       "      <td>NaN</td>\n",
       "      <td>NaN</td>\n",
       "      <td>22.05</td>\n",
       "      <td>0.0</td>\n",
       "      <td>right_only</td>\n",
       "    </tr>\n",
       "    <tr>\n",
       "      <th>679561</th>\n",
       "      <td>NaN</td>\n",
       "      <td>NaN</td>\n",
       "      <td>NaN</td>\n",
       "      <td>0_1645</td>\n",
       "      <td>NaN</td>\n",
       "      <td>NaN</td>\n",
       "      <td>2.99</td>\n",
       "      <td>0.0</td>\n",
       "      <td>right_only</td>\n",
       "    </tr>\n",
       "    <tr>\n",
       "      <th>679562</th>\n",
       "      <td>NaN</td>\n",
       "      <td>NaN</td>\n",
       "      <td>NaN</td>\n",
       "      <td>0_322</td>\n",
       "      <td>NaN</td>\n",
       "      <td>NaN</td>\n",
       "      <td>2.99</td>\n",
       "      <td>0.0</td>\n",
       "      <td>right_only</td>\n",
       "    </tr>\n",
       "    <tr>\n",
       "      <th>679563</th>\n",
       "      <td>NaN</td>\n",
       "      <td>NaN</td>\n",
       "      <td>NaN</td>\n",
       "      <td>0_1620</td>\n",
       "      <td>NaN</td>\n",
       "      <td>NaN</td>\n",
       "      <td>0.80</td>\n",
       "      <td>0.0</td>\n",
       "      <td>right_only</td>\n",
       "    </tr>\n",
       "    <tr>\n",
       "      <th>679564</th>\n",
       "      <td>NaN</td>\n",
       "      <td>NaN</td>\n",
       "      <td>NaN</td>\n",
       "      <td>0_1025</td>\n",
       "      <td>NaN</td>\n",
       "      <td>NaN</td>\n",
       "      <td>24.99</td>\n",
       "      <td>0.0</td>\n",
       "      <td>right_only</td>\n",
       "    </tr>\n",
       "    <tr>\n",
       "      <th>679565</th>\n",
       "      <td>NaN</td>\n",
       "      <td>NaN</td>\n",
       "      <td>NaN</td>\n",
       "      <td>2_87</td>\n",
       "      <td>NaN</td>\n",
       "      <td>NaN</td>\n",
       "      <td>220.99</td>\n",
       "      <td>2.0</td>\n",
       "      <td>right_only</td>\n",
       "    </tr>\n",
       "    <tr>\n",
       "      <th>679566</th>\n",
       "      <td>NaN</td>\n",
       "      <td>NaN</td>\n",
       "      <td>NaN</td>\n",
       "      <td>1_394</td>\n",
       "      <td>NaN</td>\n",
       "      <td>NaN</td>\n",
       "      <td>39.73</td>\n",
       "      <td>1.0</td>\n",
       "      <td>right_only</td>\n",
       "    </tr>\n",
       "    <tr>\n",
       "      <th>679567</th>\n",
       "      <td>NaN</td>\n",
       "      <td>NaN</td>\n",
       "      <td>NaN</td>\n",
       "      <td>2_72</td>\n",
       "      <td>NaN</td>\n",
       "      <td>NaN</td>\n",
       "      <td>141.32</td>\n",
       "      <td>2.0</td>\n",
       "      <td>right_only</td>\n",
       "    </tr>\n",
       "    <tr>\n",
       "      <th>679568</th>\n",
       "      <td>NaN</td>\n",
       "      <td>NaN</td>\n",
       "      <td>NaN</td>\n",
       "      <td>0_310</td>\n",
       "      <td>NaN</td>\n",
       "      <td>NaN</td>\n",
       "      <td>1.94</td>\n",
       "      <td>0.0</td>\n",
       "      <td>right_only</td>\n",
       "    </tr>\n",
       "    <tr>\n",
       "      <th>679569</th>\n",
       "      <td>NaN</td>\n",
       "      <td>NaN</td>\n",
       "      <td>NaN</td>\n",
       "      <td>0_1624</td>\n",
       "      <td>NaN</td>\n",
       "      <td>NaN</td>\n",
       "      <td>24.50</td>\n",
       "      <td>0.0</td>\n",
       "      <td>right_only</td>\n",
       "    </tr>\n",
       "    <tr>\n",
       "      <th>679570</th>\n",
       "      <td>NaN</td>\n",
       "      <td>NaN</td>\n",
       "      <td>NaN</td>\n",
       "      <td>2_86</td>\n",
       "      <td>NaN</td>\n",
       "      <td>NaN</td>\n",
       "      <td>132.36</td>\n",
       "      <td>2.0</td>\n",
       "      <td>right_only</td>\n",
       "    </tr>\n",
       "    <tr>\n",
       "      <th>679571</th>\n",
       "      <td>NaN</td>\n",
       "      <td>NaN</td>\n",
       "      <td>NaN</td>\n",
       "      <td>0_299</td>\n",
       "      <td>NaN</td>\n",
       "      <td>NaN</td>\n",
       "      <td>22.99</td>\n",
       "      <td>0.0</td>\n",
       "      <td>right_only</td>\n",
       "    </tr>\n",
       "    <tr>\n",
       "      <th>679572</th>\n",
       "      <td>NaN</td>\n",
       "      <td>NaN</td>\n",
       "      <td>NaN</td>\n",
       "      <td>0_510</td>\n",
       "      <td>NaN</td>\n",
       "      <td>NaN</td>\n",
       "      <td>23.66</td>\n",
       "      <td>0.0</td>\n",
       "      <td>right_only</td>\n",
       "    </tr>\n",
       "    <tr>\n",
       "      <th>679573</th>\n",
       "      <td>NaN</td>\n",
       "      <td>NaN</td>\n",
       "      <td>NaN</td>\n",
       "      <td>0_2308</td>\n",
       "      <td>NaN</td>\n",
       "      <td>NaN</td>\n",
       "      <td>20.28</td>\n",
       "      <td>0.0</td>\n",
       "      <td>right_only</td>\n",
       "    </tr>\n",
       "  </tbody>\n",
       "</table>\n",
       "</div>"
      ],
      "text/plain": [
       "       client_id  sex  age id_prod date session_id   price  categ      _merge\n",
       "679553       NaN  NaN  NaN  0_1016  NaN        NaN   35.06    0.0  right_only\n",
       "679554       NaN  NaN  NaN  0_1780  NaN        NaN    1.67    0.0  right_only\n",
       "679555       NaN  NaN  NaN  0_1062  NaN        NaN   20.08    0.0  right_only\n",
       "679556       NaN  NaN  NaN  0_1119  NaN        NaN    2.99    0.0  right_only\n",
       "679557       NaN  NaN  NaN  0_1014  NaN        NaN    1.15    0.0  right_only\n",
       "679558       NaN  NaN  NaN     1_0  NaN        NaN   31.82    1.0  right_only\n",
       "679559       NaN  NaN  NaN  0_1318  NaN        NaN   20.92    0.0  right_only\n",
       "679560       NaN  NaN  NaN  0_1800  NaN        NaN   22.05    0.0  right_only\n",
       "679561       NaN  NaN  NaN  0_1645  NaN        NaN    2.99    0.0  right_only\n",
       "679562       NaN  NaN  NaN   0_322  NaN        NaN    2.99    0.0  right_only\n",
       "679563       NaN  NaN  NaN  0_1620  NaN        NaN    0.80    0.0  right_only\n",
       "679564       NaN  NaN  NaN  0_1025  NaN        NaN   24.99    0.0  right_only\n",
       "679565       NaN  NaN  NaN    2_87  NaN        NaN  220.99    2.0  right_only\n",
       "679566       NaN  NaN  NaN   1_394  NaN        NaN   39.73    1.0  right_only\n",
       "679567       NaN  NaN  NaN    2_72  NaN        NaN  141.32    2.0  right_only\n",
       "679568       NaN  NaN  NaN   0_310  NaN        NaN    1.94    0.0  right_only\n",
       "679569       NaN  NaN  NaN  0_1624  NaN        NaN   24.50    0.0  right_only\n",
       "679570       NaN  NaN  NaN    2_86  NaN        NaN  132.36    2.0  right_only\n",
       "679571       NaN  NaN  NaN   0_299  NaN        NaN   22.99    0.0  right_only\n",
       "679572       NaN  NaN  NaN   0_510  NaN        NaN   23.66    0.0  right_only\n",
       "679573       NaN  NaN  NaN  0_2308  NaN        NaN   20.28    0.0  right_only"
      ]
     },
     "metadata": {},
     "output_type": "display_data"
    }
   ],
   "source": [
    "display(err_produit[err_produit['client_id'].isnull()])"
   ]
  },
  {
   "cell_type": "markdown",
   "id": "2bd0a948",
   "metadata": {},
   "source": [
    "# Chiffre d'affaire dans le temps"
   ]
  },
  {
   "cell_type": "code",
   "execution_count": 43,
   "id": "61b7d8c3",
   "metadata": {},
   "outputs": [
    {
     "data": {
      "text/plain": [
       "<AxesSubplot:xlabel='date'>"
      ]
     },
     "metadata": {},
     "output_type": "display_data"
    },
    {
     "data": {
      "text/plain": [
       "<AxesSubplot:xlabel='date'>"
      ]
     },
     "metadata": {},
     "output_type": "display_data"
    },
    {
     "data": {
      "text/plain": [
       "<AxesSubplot:xlabel='date'>"
      ]
     },
     "metadata": {},
     "output_type": "display_data"
    },
    {
     "data": {
      "text/plain": [
       "<AxesSubplot:xlabel='date'>"
      ]
     },
     "metadata": {},
     "output_type": "display_data"
    },
    {
     "data": {
      "image/png": "[encoded data removed]",
      "text/plain": [
       "<Figure size 432x288 with 1 Axes>"
      ]
     },
     "metadata": {
      "needs_background": "light"
     },
     "output_type": "display_data"
    },
    {
     "data": {
      "image/png": "[encoded data removed]",
      "text/plain": [
       "<Figure size 432x288 with 1 Axes>"
      ]
     },
     "metadata": {
      "needs_background": "light"
     },
     "output_type": "display_data"
    },
    {
     "data": {
      "image/png": "[encoded data removed]",
      "text/plain": [
       "<Figure size 432x288 with 1 Axes>"
      ]
     },
     "metadata": {
      "needs_background": "light"
     },
     "output_type": "display_data"
    },
    {
     "data": {
      "image/png": "[encoded data removed]",
      "text/plain": [
       "<Figure size 432x288 with 1 Axes>"
      ]
     },
     "metadata": {
      "needs_background": "light"
     },
     "output_type": "display_data"
    }
   ],
   "source": [
    "display(profils.resample(\"Y\", on='date').sum().loc[:,['price']].plot.bar()) # vue sur l'année\n",
    "display(profils.resample(\"M\", on='date').sum().loc[:,['price']].plot()) # vue sur le mois\n",
    "display(profils.resample(\"M\", on='date').sum().loc[:,['price']].rolling(3).mean().plot())\n",
    "display(profils[profils['date'].between('2021-10-01','2021-10-31')].loc[:,['price','date']].resample(\"1d\", on='date').sum().plot())"
   ]
  },
  {
   "cell_type": "markdown",
   "id": "06a2259a",
   "metadata": {},
   "source": [
    "# Répartition du chiffre d'affaire par client"
   ]
  },
  {
   "cell_type": "code",
   "execution_count": 44,
   "id": "45db73f3",
   "metadata": {},
   "outputs": [
    {
     "data": {
      "image/png": "[encoded data removed]",
      "text/plain": [
       "<Figure size 432x288 with 1 Axes>"
      ]
     },
     "metadata": {
      "needs_background": "light"
     },
     "output_type": "display_data"
    },
    {
     "data": {
      "text/plain": [
       "<AxesSubplot:xlabel='client_id'>"
      ]
     },
     "metadata": {},
     "output_type": "display_data"
    },
    {
     "data": {
      "text/plain": [
       "<AxesSubplot:xlabel='client_id'>"
      ]
     },
     "metadata": {},
     "output_type": "display_data"
    },
    {
     "data": {
      "image/png": "[encoded data removed]",
      "text/plain": [
       "<Figure size 432x288 with 1 Axes>"
      ]
     },
     "metadata": {
      "needs_background": "light"
     },
     "output_type": "display_data"
    },
    {
     "data": {
      "image/png": "[encoded data removed]",
      "text/plain": [
       "<Figure size 432x288 with 1 Axes>"
      ]
     },
     "metadata": {
      "needs_background": "light"
     },
     "output_type": "display_data"
    }
   ],
   "source": [
    "# établir la répartition du chiffre d'affaire entre les clients.\n",
    "def courbe_lorenz(data):\n",
    "    data_size = len(data)\n",
    "    lorenz = ''\n",
    "    lorenz = np.cumsum(data) / data.sum()\n",
    "    lorenz = np.append([0],lorenz) \n",
    "\n",
    "    xaxis = np.linspace(0-1/data_size,1+1/data_size,data_size+1)\n",
    "    plt.plot(xaxis,lorenz,drawstyle='steps-post')\n",
    "    \n",
    "    x=[0,1]\n",
    "    y=[0,1]\n",
    "    plt.plot(x,y,'--')\n",
    "    plt.show()\n",
    "\n",
    "def price_to_CA(data):\n",
    "    data_CA = data.groupby(by=['client_id']).sum()\n",
    "    data_CA.rename(columns={'price':'CA'},inplace=True)\n",
    "    data_CA = data_CA.loc[:,['CA']].sort_values(by='CA', ascending=True)\n",
    "    return data_CA\n",
    "\n",
    "profils_CA = price_to_CA(profils)\n",
    "courbe_lorenz(profils_CA)\n",
    "\n",
    "display(profils_CA.plot())\n",
    "display(profils_CA.tail(6).plot.bar())"
   ]
  },
  {
   "cell_type": "markdown",
   "id": "94417a72",
   "metadata": {},
   "source": [
    "# Courbe d'achat des 4 plus gros clients sur le mois d'octobre"
   ]
  },
  {
   "cell_type": "code",
   "execution_count": 45,
   "id": "523d23e7",
   "metadata": {},
   "outputs": [
    {
     "data": {
      "text/plain": [
       "<AxesSubplot:xlabel='date'>"
      ]
     },
     "metadata": {},
     "output_type": "display_data"
    },
    {
     "data": {
      "image/png": "[encoded data removed]",
      "text/plain": [
       "<Figure size 432x288 with 1 Axes>"
      ]
     },
     "metadata": {
      "needs_background": "light"
     },
     "output_type": "display_data"
    }
   ],
   "source": [
    "gros_clients = profils[profils['client_id'].isin({'c_3454','c_6714','c_1609','c_4958'})]\n",
    "display(gros_clients[gros_clients['date'].between('2021-09-01','2021-11-30')].loc[:,['price','date']].resample(\"1d\", on='date').sum().rolling(7).mean().plot())"
   ]
  },
  {
   "cell_type": "markdown",
   "id": "92c793d1",
   "metadata": {},
   "source": [
    "# Etablir des profils d'achat"
   ]
  },
  {
   "cell_type": "code",
   "execution_count": 46,
   "id": "03c8ca8b",
   "metadata": {},
   "outputs": [],
   "source": [
    "# Profil par sex\n",
    "femmes = profils[profils['sex'] == 'f']\n",
    "hommes = profils[profils['sex'] == 'm']\n",
    "\n",
    "# Profil par tranche d'âge\n",
    "jeunes = profils[profils['age'].between(18,30)]\n",
    "actifs = profils[profils['age'].between(26,60)]\n",
    "vieux = profils[profils['age'] >= 61]"
   ]
  },
  {
   "cell_type": "markdown",
   "id": "1bc74d67",
   "metadata": {},
   "source": [
    "# Liens entre les catégories et le genre"
   ]
  },
  {
   "cell_type": "markdown",
   "id": "da602df3",
   "metadata": {},
   "source": [
    "### achat des hommes"
   ]
  },
  {
   "cell_type": "code",
   "execution_count": 47,
   "id": "fc7d8f9a",
   "metadata": {},
   "outputs": [
    {
     "data": {
      "text/plain": [
       "<AxesSubplot:xlabel='categ'>"
      ]
     },
     "execution_count": 47,
     "metadata": {},
     "output_type": "execute_result"
    },
    {
     "data": {
      "image/png": "[encoded data removed]",
      "text/plain": [
       "<Figure size 432x288 with 1 Axes>"
      ]
     },
     "metadata": {
      "needs_background": "light"
     },
     "output_type": "display_data"
    }
   ],
   "source": [
    "achat_h = hommes.groupby(by=['categ']).count().loc[:,['client_id']]\n",
    "achat_h.plot.bar()"
   ]
  },
  {
   "cell_type": "markdown",
   "id": "e3225f7d",
   "metadata": {},
   "source": [
    "### achat des femmes"
   ]
  },
  {
   "cell_type": "code",
   "execution_count": 48,
   "id": "2b17ac1b",
   "metadata": {},
   "outputs": [
    {
     "data": {
      "text/plain": [
       "<AxesSubplot:xlabel='categ'>"
      ]
     },
     "execution_count": 48,
     "metadata": {},
     "output_type": "execute_result"
    },
    {
     "data": {
      "image/png": "[encoded data removed]",
      "text/plain": [
       "<Figure size 432x288 with 1 Axes>"
      ]
     },
     "metadata": {
      "needs_background": "light"
     },
     "output_type": "display_data"
    }
   ],
   "source": [
    "achat_f = femmes.groupby(by=['categ']).count().loc[:,['client_id']]\n",
    "achat_f.plot.bar()"
   ]
  },
  {
   "cell_type": "markdown",
   "id": "c9abe941",
   "metadata": {},
   "source": [
    "### différence d'achat entre les genres"
   ]
  },
  {
   "cell_type": "code",
   "execution_count": 49,
   "id": "353eaa40",
   "metadata": {},
   "outputs": [
    {
     "data": {
      "text/plain": [
       "<AxesSubplot:xlabel='categ'>"
      ]
     },
     "metadata": {},
     "output_type": "display_data"
    },
    {
     "data": {
      "text/html": [
       "<div>\n",
       "<style scoped>\n",
       "    .dataframe tbody tr th:only-of-type {\n",
       "        vertical-align: middle;\n",
       "    }\n",
       "\n",
       "    .dataframe tbody tr th {\n",
       "        vertical-align: top;\n",
       "    }\n",
       "\n",
       "    .dataframe thead th {\n",
       "        text-align: right;\n",
       "    }\n",
       "</style>\n",
       "<table border=\"1\" class=\"dataframe\">\n",
       "  <thead>\n",
       "    <tr style=\"text-align: right;\">\n",
       "      <th></th>\n",
       "      <th>client_id</th>\n",
       "    </tr>\n",
       "    <tr>\n",
       "      <th>categ</th>\n",
       "      <th></th>\n",
       "    </tr>\n",
       "  </thead>\n",
       "  <tbody>\n",
       "    <tr>\n",
       "      <th>0</th>\n",
       "      <td>0.782989</td>\n",
       "    </tr>\n",
       "    <tr>\n",
       "      <th>1</th>\n",
       "      <td>1.157288</td>\n",
       "    </tr>\n",
       "    <tr>\n",
       "      <th>2</th>\n",
       "      <td>5.254502</td>\n",
       "    </tr>\n",
       "  </tbody>\n",
       "</table>\n",
       "</div>"
      ],
      "text/plain": [
       "       client_id\n",
       "categ           \n",
       "0       0.782989\n",
       "1       1.157288\n",
       "2       5.254502"
      ]
     },
     "metadata": {},
     "output_type": "display_data"
    },
    {
     "data": {
      "image/png": "[encoded data removed]",
      "text/plain": [
       "<Figure size 432x288 with 1 Axes>"
      ]
     },
     "metadata": {
      "needs_background": "light"
     },
     "output_type": "display_data"
    }
   ],
   "source": [
    "comparaison = achat_f - achat_h\n",
    "display(comparaison.plot.bar())\n",
    "display(abs((comparaison/(achat_h+achat_f))*100))"
   ]
  },
  {
   "cell_type": "markdown",
   "id": "a83d9dbc",
   "metadata": {},
   "source": [
    "# CA par âge"
   ]
  },
  {
   "cell_type": "code",
   "execution_count": 50,
   "id": "0b312b66",
   "metadata": {},
   "outputs": [],
   "source": [
    "def répartition_CA(data):\n",
    "    Gros_CA = data[data['CA'] > 50000]\n",
    "    data = data[data['CA'] < 50000] # J'enlève les grosses baleine qui sont des cas à part\n",
    "\n",
    "    display(Gros_CA)\n",
    "    display(data.boxplot(['CA']))    "
   ]
  },
  {
   "cell_type": "markdown",
   "id": "e58962ea",
   "metadata": {},
   "source": [
    "# Les jeunes"
   ]
  },
  {
   "cell_type": "code",
   "execution_count": 51,
   "id": "b64499ab",
   "metadata": {},
   "outputs": [
    {
     "data": {
      "image/png": "[encoded data removed]",
      "text/plain": [
       "<Figure size 432x288 with 1 Axes>"
      ]
     },
     "metadata": {
      "needs_background": "light"
     },
     "output_type": "display_data"
    },
    {
     "data": {
      "text/html": [
       "<div>\n",
       "<style scoped>\n",
       "    .dataframe tbody tr th:only-of-type {\n",
       "        vertical-align: middle;\n",
       "    }\n",
       "\n",
       "    .dataframe tbody tr th {\n",
       "        vertical-align: top;\n",
       "    }\n",
       "\n",
       "    .dataframe thead th {\n",
       "        text-align: right;\n",
       "    }\n",
       "</style>\n",
       "<table border=\"1\" class=\"dataframe\">\n",
       "  <thead>\n",
       "    <tr style=\"text-align: right;\">\n",
       "      <th></th>\n",
       "      <th>CA</th>\n",
       "    </tr>\n",
       "    <tr>\n",
       "      <th>client_id</th>\n",
       "      <th></th>\n",
       "    </tr>\n",
       "  </thead>\n",
       "  <tbody>\n",
       "    <tr>\n",
       "      <th>c_4958</th>\n",
       "      <td>289760.34</td>\n",
       "    </tr>\n",
       "  </tbody>\n",
       "</table>\n",
       "</div>"
      ],
      "text/plain": [
       "                  CA\n",
       "client_id           \n",
       "c_4958     289760.34"
      ]
     },
     "metadata": {},
     "output_type": "display_data"
    },
    {
     "data": {
      "text/plain": [
       "<AxesSubplot:>"
      ]
     },
     "metadata": {},
     "output_type": "display_data"
    },
    {
     "data": {
      "image/png": "[encoded data removed]",
      "text/plain": [
       "<Figure size 432x288 with 1 Axes>"
      ]
     },
     "metadata": {
      "needs_background": "light"
     },
     "output_type": "display_data"
    }
   ],
   "source": [
    "jeunes_CA = price_to_CA(jeunes)\n",
    "courbe_lorenz(jeunes_CA)\n",
    "répartition_CA(jeunes_CA)"
   ]
  },
  {
   "cell_type": "markdown",
   "id": "f3dba7d1",
   "metadata": {},
   "source": [
    "# Les actifs"
   ]
  },
  {
   "cell_type": "code",
   "execution_count": 52,
   "id": "6f9b9c9a",
   "metadata": {},
   "outputs": [
    {
     "data": {
      "image/png": "[encoded data removed]",
      "text/plain": [
       "<Figure size 432x288 with 1 Axes>"
      ]
     },
     "metadata": {
      "needs_background": "light"
     },
     "output_type": "display_data"
    },
    {
     "data": {
      "text/html": [
       "<div>\n",
       "<style scoped>\n",
       "    .dataframe tbody tr th:only-of-type {\n",
       "        vertical-align: middle;\n",
       "    }\n",
       "\n",
       "    .dataframe tbody tr th {\n",
       "        vertical-align: top;\n",
       "    }\n",
       "\n",
       "    .dataframe thead th {\n",
       "        text-align: right;\n",
       "    }\n",
       "</style>\n",
       "<table border=\"1\" class=\"dataframe\">\n",
       "  <thead>\n",
       "    <tr style=\"text-align: right;\">\n",
       "      <th></th>\n",
       "      <th>CA</th>\n",
       "    </tr>\n",
       "    <tr>\n",
       "      <th>client_id</th>\n",
       "      <th></th>\n",
       "    </tr>\n",
       "  </thead>\n",
       "  <tbody>\n",
       "    <tr>\n",
       "      <th>c_3454</th>\n",
       "      <td>113637.93</td>\n",
       "    </tr>\n",
       "    <tr>\n",
       "      <th>c_6714</th>\n",
       "      <td>153598.92</td>\n",
       "    </tr>\n",
       "    <tr>\n",
       "      <th>c_1609</th>\n",
       "      <td>324033.35</td>\n",
       "    </tr>\n",
       "  </tbody>\n",
       "</table>\n",
       "</div>"
      ],
      "text/plain": [
       "                  CA\n",
       "client_id           \n",
       "c_3454     113637.93\n",
       "c_6714     153598.92\n",
       "c_1609     324033.35"
      ]
     },
     "metadata": {},
     "output_type": "display_data"
    },
    {
     "data": {
      "text/plain": [
       "<AxesSubplot:>"
      ]
     },
     "metadata": {},
     "output_type": "display_data"
    },
    {
     "data": {
      "image/png": "[encoded data removed]",
      "text/plain": [
       "<Figure size 432x288 with 1 Axes>"
      ]
     },
     "metadata": {
      "needs_background": "light"
     },
     "output_type": "display_data"
    }
   ],
   "source": [
    "actifs_CA = price_to_CA(actifs)\n",
    "courbe_lorenz(actifs_CA)\n",
    "répartition_CA(actifs_CA)"
   ]
  },
  {
   "cell_type": "markdown",
   "id": "f4b387c1",
   "metadata": {},
   "source": [
    "# Les vieux"
   ]
  },
  {
   "cell_type": "code",
   "execution_count": 53,
   "id": "8de7754b",
   "metadata": {},
   "outputs": [
    {
     "data": {
      "image/png": "[encoded data removed]",
      "text/plain": [
       "<Figure size 432x288 with 1 Axes>"
      ]
     },
     "metadata": {
      "needs_background": "light"
     },
     "output_type": "display_data"
    },
    {
     "data": {
      "text/html": [
       "<div>\n",
       "<style scoped>\n",
       "    .dataframe tbody tr th:only-of-type {\n",
       "        vertical-align: middle;\n",
       "    }\n",
       "\n",
       "    .dataframe tbody tr th {\n",
       "        vertical-align: top;\n",
       "    }\n",
       "\n",
       "    .dataframe thead th {\n",
       "        text-align: right;\n",
       "    }\n",
       "</style>\n",
       "<table border=\"1\" class=\"dataframe\">\n",
       "  <thead>\n",
       "    <tr style=\"text-align: right;\">\n",
       "      <th></th>\n",
       "      <th>CA</th>\n",
       "    </tr>\n",
       "    <tr>\n",
       "      <th>client_id</th>\n",
       "      <th></th>\n",
       "    </tr>\n",
       "  </thead>\n",
       "  <tbody>\n",
       "  </tbody>\n",
       "</table>\n",
       "</div>"
      ],
      "text/plain": [
       "Empty DataFrame\n",
       "Columns: [CA]\n",
       "Index: []"
      ]
     },
     "metadata": {},
     "output_type": "display_data"
    },
    {
     "data": {
      "text/plain": [
       "<AxesSubplot:>"
      ]
     },
     "metadata": {},
     "output_type": "display_data"
    },
    {
     "data": {
      "image/png": "[encoded data removed]",
      "text/plain": [
       "<Figure size 432x288 with 1 Axes>"
      ]
     },
     "metadata": {
      "needs_background": "light"
     },
     "output_type": "display_data"
    }
   ],
   "source": [
    "vieux_CA = price_to_CA(vieux)\n",
    "courbe_lorenz(vieux_CA)\n",
    "répartition_CA(vieux_CA)"
   ]
  },
  {
   "cell_type": "code",
   "execution_count": 54,
   "id": "7d0721b8",
   "metadata": {},
   "outputs": [],
   "source": [
    "profils['date'] = pd.to_datetime(profils['date']).dt.date\n",
    "achat_jour = profils.loc[:,['client_id','date','price']].sort_values(by=['client_id','date'], ascending=True).groupby(by=['client_id','date']).sum().sort_values('price',ascending=True).reset_index()"
   ]
  },
  {
   "cell_type": "markdown",
   "id": "470a5b0b",
   "metadata": {},
   "source": [
    "# Paniers moyens par client"
   ]
  },
  {
   "cell_type": "code",
   "execution_count": 55,
   "id": "7d135ff2",
   "metadata": {},
   "outputs": [
    {
     "data": {
      "image/png": "[encoded data removed]",
      "text/plain": [
       "<Figure size 432x288 with 1 Axes>"
      ]
     },
     "metadata": {
      "needs_background": "light"
     },
     "output_type": "display_data"
    },
    {
     "data": {
      "text/plain": [
       "None"
      ]
     },
     "metadata": {},
     "output_type": "display_data"
    },
    {
     "data": {
      "text/plain": [
       "<AxesSubplot:xlabel='client_id'>"
      ]
     },
     "metadata": {},
     "output_type": "display_data"
    },
    {
     "data": {
      "image/png": "[encoded data removed]",
      "text/plain": [
       "<Figure size 432x288 with 1 Axes>"
      ]
     },
     "metadata": {
      "needs_background": "light"
     },
     "output_type": "display_data"
    }
   ],
   "source": [
    "paniers_moyen = achat_jour.groupby(by='client_id').mean().sort_values(by=['price'], ascending=True)\n",
    "\n",
    "display(courbe_lorenz(paniers_moyen))\n",
    "display(paniers_moyen.tail(20).plot.bar())\n",
    "\n",
    "nb_achat = profils.groupby(by=['client_id'])['date'].nunique().sort_values()"
   ]
  },
  {
   "cell_type": "code",
   "execution_count": 56,
   "id": "8dc372fd",
   "metadata": {},
   "outputs": [],
   "source": [
    "# Profil par tranche d'âge\n",
    "corrélation = profils.loc[:, ['client_id','age','sex']]\n",
    "corrélation = achat_jour.merge(corrélation, on='client_id', how='inner')\n",
    "corrélation = corrélation.drop_duplicates()\n",
    "\n",
    "#Changement des lettres en chiffre pour que la corrélation soit calculé\n",
    "corrélation['sex'] = corrélation['sex'].replace({'f':1})\n",
    "corrélation['sex'] = corrélation['sex'].replace({'m':0})\n",
    "\n",
    "#On enlève les gros clients\n",
    "corrélation = corrélation[-corrélation['client_id'].isin({'c_3454','c_6714','c_1609','c_4958'})]\n",
    "\n",
    "#On calcule le panier moyen\n",
    "corrélation = corrélation.groupby(by=['client_id']).mean()\n",
    "\n",
    "jeunes = profils[profils['age'].between(18,30)]\n",
    "actifs = profils[profils['age'].between(26,60)]\n",
    "vieux = profils[profils['age'] >= 61]\n",
    "\n",
    "corrélation['age_categ'] = corrélation['age'].apply(lambda x: \"jeunes\" if x <= 30 \n",
    "                                                    else \"actifs\" if x <= 60\n",
    "                                                    else \"vieux\")"
   ]
  },
  {
   "cell_type": "code",
   "execution_count": 57,
   "id": "cea6bd8d",
   "metadata": {},
   "outputs": [
    {
     "data": {
      "text/plain": [
       "<AxesSubplot:xlabel='age_categ', ylabel='price'>"
      ]
     },
     "execution_count": 57,
     "metadata": {},
     "output_type": "execute_result"
    },
    {
     "data": {
      "image/png": "[encoded data removed]",
      "text/plain": [
       "<Figure size 432x288 with 1 Axes>"
      ]
     },
     "metadata": {
      "needs_background": "light"
     },
     "output_type": "display_data"
    }
   ],
   "source": [
    "sns.violinplot(data=corrélation, x=\"age_categ\", y=\"price\", hue='sex', split=True)"
   ]
  },
  {
   "cell_type": "code",
   "execution_count": 58,
   "id": "bff14e7b",
   "metadata": {},
   "outputs": [
    {
     "data": {
      "text/plain": [
       "'p-value = 0.0'"
      ]
     },
     "metadata": {},
     "output_type": "display_data"
    },
    {
     "data": {
      "image/png": "[encoded data removed]",
      "text/plain": [
       "<Figure size 432x288 with 2 Axes>"
      ]
     },
     "metadata": {
      "needs_background": "light"
     },
     "output_type": "display_data"
    }
   ],
   "source": [
    "sns.heatmap(corrélation.corr(method='pearson').abs(), annot=True, cmap='autumn_r')\n",
    "display('p-value = '+str(stats.pearsonr(corrélation['age'],corrélation['price'])[1]))"
   ]
  },
  {
   "cell_type": "markdown",
   "id": "b50a6042",
   "metadata": {},
   "source": [
    "# Fréquence d'achat"
   ]
  },
  {
   "cell_type": "code",
   "execution_count": 59,
   "id": "a0988c56",
   "metadata": {},
   "outputs": [],
   "source": [
    "nb_jour_total = profils['date'].nunique()\n",
    "fréquence = achat_jour.groupby(by='client_id').count() / nb_jour_total\n",
    "fréquence = fréquence.drop(columns=['price'])\n",
    "fréquence = fréquence.merge(profils.loc[:,['client_id','sex','age']], on='client_id', how='inner').drop_duplicates()\n",
    "\n",
    "fréquence = fréquence[-fréquence['client_id'].isin({'c_3454','c_6714','c_1609','c_4958'})]\n",
    "\n",
    "fréquence['sex'] = fréquence['sex'].replace({'f':1})\n",
    "fréquence['sex'] = fréquence['sex'].replace({'m':0})\n",
    "\n",
    "fréquence['age_categ'] = fréquence['age'].apply(lambda x: \"jeunes\" if x <= 30 \n",
    "                                                   else \"actifs\" if x <= 60\n",
    "                                                   else \"vieux\")\n",
    "\n",
    "fréquence.rename(columns={\"date\":\"fréquence/jour\"},inplace=True)"
   ]
  },
  {
   "cell_type": "code",
   "execution_count": 60,
   "id": "be0edef0",
   "metadata": {},
   "outputs": [
    {
     "data": {
      "text/html": [
       "<div>\n",
       "<style scoped>\n",
       "    .dataframe tbody tr th:only-of-type {\n",
       "        vertical-align: middle;\n",
       "    }\n",
       "\n",
       "    .dataframe tbody tr th {\n",
       "        vertical-align: top;\n",
       "    }\n",
       "\n",
       "    .dataframe thead th {\n",
       "        text-align: right;\n",
       "    }\n",
       "</style>\n",
       "<table border=\"1\" class=\"dataframe\">\n",
       "  <thead>\n",
       "    <tr style=\"text-align: right;\">\n",
       "      <th></th>\n",
       "      <th>client_id</th>\n",
       "      <th>fréquence/jour</th>\n",
       "      <th>sex</th>\n",
       "      <th>age</th>\n",
       "      <th>age_categ</th>\n",
       "    </tr>\n",
       "  </thead>\n",
       "  <tbody>\n",
       "    <tr>\n",
       "      <th>0</th>\n",
       "      <td>c_1</td>\n",
       "      <td>0.045205</td>\n",
       "      <td>0</td>\n",
       "      <td>67</td>\n",
       "      <td>vieux</td>\n",
       "    </tr>\n",
       "    <tr>\n",
       "      <th>39</th>\n",
       "      <td>c_10</td>\n",
       "      <td>0.046575</td>\n",
       "      <td>0</td>\n",
       "      <td>66</td>\n",
       "      <td>vieux</td>\n",
       "    </tr>\n",
       "    <tr>\n",
       "      <th>97</th>\n",
       "      <td>c_100</td>\n",
       "      <td>0.006849</td>\n",
       "      <td>0</td>\n",
       "      <td>30</td>\n",
       "      <td>jeunes</td>\n",
       "    </tr>\n",
       "    <tr>\n",
       "      <th>105</th>\n",
       "      <td>c_1000</td>\n",
       "      <td>0.117808</td>\n",
       "      <td>1</td>\n",
       "      <td>56</td>\n",
       "      <td>actifs</td>\n",
       "    </tr>\n",
       "    <tr>\n",
       "      <th>230</th>\n",
       "      <td>c_1001</td>\n",
       "      <td>0.060274</td>\n",
       "      <td>0</td>\n",
       "      <td>40</td>\n",
       "      <td>actifs</td>\n",
       "    </tr>\n",
       "    <tr>\n",
       "      <th>...</th>\n",
       "      <td>...</td>\n",
       "      <td>...</td>\n",
       "      <td>...</td>\n",
       "      <td>...</td>\n",
       "      <td>...</td>\n",
       "    </tr>\n",
       "    <tr>\n",
       "      <th>678844</th>\n",
       "      <td>c_995</td>\n",
       "      <td>0.012329</td>\n",
       "      <td>0</td>\n",
       "      <td>67</td>\n",
       "      <td>vieux</td>\n",
       "    </tr>\n",
       "    <tr>\n",
       "      <th>678858</th>\n",
       "      <td>c_996</td>\n",
       "      <td>0.104110</td>\n",
       "      <td>1</td>\n",
       "      <td>52</td>\n",
       "      <td>actifs</td>\n",
       "    </tr>\n",
       "    <tr>\n",
       "      <th>678953</th>\n",
       "      <td>c_997</td>\n",
       "      <td>0.032877</td>\n",
       "      <td>1</td>\n",
       "      <td>28</td>\n",
       "      <td>jeunes</td>\n",
       "    </tr>\n",
       "    <tr>\n",
       "      <th>679012</th>\n",
       "      <td>c_998</td>\n",
       "      <td>0.031507</td>\n",
       "      <td>0</td>\n",
       "      <td>21</td>\n",
       "      <td>jeunes</td>\n",
       "    </tr>\n",
       "    <tr>\n",
       "      <th>679065</th>\n",
       "      <td>c_999</td>\n",
       "      <td>0.057534</td>\n",
       "      <td>0</td>\n",
       "      <td>58</td>\n",
       "      <td>actifs</td>\n",
       "    </tr>\n",
       "  </tbody>\n",
       "</table>\n",
       "<p>8596 rows × 5 columns</p>\n",
       "</div>"
      ],
      "text/plain": [
       "       client_id  fréquence/jour  sex  age age_categ\n",
       "0            c_1        0.045205    0   67     vieux\n",
       "39          c_10        0.046575    0   66     vieux\n",
       "97         c_100        0.006849    0   30    jeunes\n",
       "105       c_1000        0.117808    1   56    actifs\n",
       "230       c_1001        0.060274    0   40    actifs\n",
       "...          ...             ...  ...  ...       ...\n",
       "678844     c_995        0.012329    0   67     vieux\n",
       "678858     c_996        0.104110    1   52    actifs\n",
       "678953     c_997        0.032877    1   28    jeunes\n",
       "679012     c_998        0.031507    0   21    jeunes\n",
       "679065     c_999        0.057534    0   58    actifs\n",
       "\n",
       "[8596 rows x 5 columns]"
      ]
     },
     "metadata": {},
     "output_type": "display_data"
    },
    {
     "data": {
      "image/png": "[encoded data removed]",
      "text/plain": [
       "<Figure size 432x288 with 1 Axes>"
      ]
     },
     "metadata": {
      "needs_background": "light"
     },
     "output_type": "display_data"
    }
   ],
   "source": [
    "sns.violinplot(data=fréquence, x=\"age_categ\", y=\"fréquence/jour\", hue='sex', split=True)\n",
    "display(fréquence)"
   ]
  },
  {
   "cell_type": "code",
   "execution_count": 61,
   "id": "f0ced00a",
   "metadata": {},
   "outputs": [
    {
     "data": {
      "text/plain": [
       "<AxesSubplot:title={'center':'fréquence/jour'}, xlabel='[age_categ]'>"
      ]
     },
     "execution_count": 61,
     "metadata": {},
     "output_type": "execute_result"
    },
    {
     "data": {
      "image/png": "[encoded data removed]",
      "text/plain": [
       "<Figure size 432x288 with 1 Axes>"
      ]
     },
     "metadata": {
      "needs_background": "light"
     },
     "output_type": "display_data"
    }
   ],
   "source": [
    "fréquence.boxplot(['fréquence/jour'],['age_categ'])"
   ]
  },
  {
   "cell_type": "code",
   "execution_count": 62,
   "id": "61287b06",
   "metadata": {},
   "outputs": [
    {
     "data": {
      "text/plain": [
       "'p-value = 2.3302123570059496e-54'"
      ]
     },
     "metadata": {},
     "output_type": "display_data"
    },
    {
     "data": {
      "image/png": "[encoded data removed]",
      "text/plain": [
       "<Figure size 432x288 with 2 Axes>"
      ]
     },
     "metadata": {
      "needs_background": "light"
     },
     "output_type": "display_data"
    }
   ],
   "source": [
    "sns.heatmap(fréquence.corr(method='pearson'), annot=True, cmap='autumn_r')\n",
    "display(\"p-value = \" + str(stats.pearsonr(fréquence['age'], fréquence['fréquence/jour'])[1]))"
   ]
  },
  {
   "cell_type": "markdown",
   "id": "c2097630",
   "metadata": {},
   "source": [
    "# Catégorie de livre acheté en fonction de l'âge"
   ]
  },
  {
   "cell_type": "code",
   "execution_count": 63,
   "id": "5f6d0b61",
   "metadata": {},
   "outputs": [
    {
     "data": {
      "text/plain": [
       "<matplotlib.lines.Line2D at 0x2889dc97f10>"
      ]
     },
     "execution_count": 63,
     "metadata": {},
     "output_type": "execute_result"
    },
    {
     "data": {
      "image/png": "[encoded data removed]",
      "text/plain": [
       "<Figure size 432x288 with 1 Axes>"
      ]
     },
     "metadata": {
      "needs_background": "light"
     },
     "output_type": "display_data"
    }
   ],
   "source": [
    "categ = profils.loc[:,['client_id','sex','age','categ']]\n",
    "categ = categ[-categ['client_id'].isin({'c_3454','c_6714','c_1609','c_4958'})]\n",
    "\n",
    "sns.violinplot(data=categ, x=\"categ\", y=\"age\", hue='sex', split=True)\n",
    "\n",
    "plt.axhline(y=30, xmin=0, xmax=1, color='red', linestyle='dashed')\n",
    "plt.axhline(y=60, xmin=0, xmax=1, color='red', linestyle='dashed')"
   ]
  },
  {
   "cell_type": "code",
   "execution_count": 68,
   "id": "5419d6d8",
   "metadata": {},
   "outputs": [
    {
     "data": {
      "text/html": [
       "<div>\n",
       "<style scoped>\n",
       "    .dataframe tbody tr th:only-of-type {\n",
       "        vertical-align: middle;\n",
       "    }\n",
       "\n",
       "    .dataframe tbody tr th {\n",
       "        vertical-align: top;\n",
       "    }\n",
       "\n",
       "    .dataframe thead th {\n",
       "        text-align: right;\n",
       "    }\n",
       "</style>\n",
       "<table border=\"1\" class=\"dataframe\">\n",
       "  <thead>\n",
       "    <tr style=\"text-align: right;\">\n",
       "      <th>categ</th>\n",
       "      <th>0</th>\n",
       "      <th>1</th>\n",
       "      <th>2</th>\n",
       "    </tr>\n",
       "    <tr>\n",
       "      <th>age_categ</th>\n",
       "      <th></th>\n",
       "      <th></th>\n",
       "      <th></th>\n",
       "    </tr>\n",
       "  </thead>\n",
       "  <tbody>\n",
       "    <tr>\n",
       "      <th>1</th>\n",
       "      <td>16691</td>\n",
       "      <td>28087</td>\n",
       "      <td>29879</td>\n",
       "    </tr>\n",
       "    <tr>\n",
       "      <th>2</th>\n",
       "      <td>333978</td>\n",
       "      <td>137642</td>\n",
       "      <td>2186</td>\n",
       "    </tr>\n",
       "    <tr>\n",
       "      <th>3</th>\n",
       "      <td>36612</td>\n",
       "      <td>46619</td>\n",
       "      <td>783</td>\n",
       "    </tr>\n",
       "  </tbody>\n",
       "</table>\n",
       "</div>"
      ],
      "text/plain": [
       "categ           0       1      2\n",
       "age_categ                       \n",
       "1           16691   28087  29879\n",
       "2          333978  137642   2186\n",
       "3           36612   46619    783"
      ]
     },
     "metadata": {},
     "output_type": "display_data"
    },
    {
     "data": {
      "text/plain": [
       "'pvalue = 0.0'"
      ]
     },
     "metadata": {},
     "output_type": "display_data"
    },
    {
     "data": {
      "text/plain": [
       "KruskalResult(statistic=876189.7671839211, pvalue=0.0)"
      ]
     },
     "metadata": {},
     "output_type": "display_data"
    }
   ],
   "source": [
    "categ['sex'] = categ['sex'].replace({'f':1})\n",
    "categ['sex'] = categ['sex'].replace({'m':0})\n",
    "\n",
    "categ['age_categ'] = categ['age'].apply(lambda x: \"jeunes\" if x <= 30 \n",
    "                                                   else \"actifs\" if x <= 60\n",
    "                                                   else \"vieux\")\n",
    "\n",
    "categ['age_categ'] = categ['age_categ'].replace({'jeunes':1})\n",
    "categ['age_categ'] = categ['age_categ'].replace({'actifs':2})\n",
    "categ['age_categ'] = categ['age_categ'].replace({'vieux':3})\n",
    "\n",
    "categ_contingence = pd.crosstab(categ['age_categ'],categ['categ'])\n",
    "\n",
    "display(categ_contingence)\n",
    "display(\"pvalue = \" + str(stats.chi2_contingency(categ_contingence)[1]))\n",
    "display(stats.kruskal(categ['categ'], categ['age_categ']))\n",
    "\n",
    "#L'hypothèse null est la suivante: il n'y a pas de corélation.\n",
    "#La valeur P est de 0 donc l'hypothèse null est rejeté ce qui signifie qu'il y a corrélation entre l'âge et la catégorie de livre."
   ]
  },
  {
   "cell_type": "code",
   "execution_count": null,
   "id": "d50c1c57",
   "metadata": {},
   "outputs": [],
   "source": []
  }
 ],
 "metadata": {
  "kernelspec": {
   "display_name": "Python 3 (ipykernel)",
   "language": "python",
   "name": "python3"
  },
  "language_info": {
   "codemirror_mode": {
    "name": "ipython",
    "version": 3
   },
   "file_extension": ".py",
   "mimetype": "text/x-python",
   "name": "python",
   "nbconvert_exporter": "python",
   "pygments_lexer": "ipython3",
   "version": "3.9.12"
  }
 },
 "nbformat": 4,
 "nbformat_minor": 5
}
