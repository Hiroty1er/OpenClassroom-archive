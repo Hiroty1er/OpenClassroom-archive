{
 "cells": [
  {
   "cell_type": "code",
   "execution_count": 4,
   "id": "75548ba9",
   "metadata": {},
   "outputs": [],
   "source": [
    "import glob as g\n",
    "import pandas as pd\n",
    "\n",
    "def importer(dossier):\n",
    "    \n",
    "    liste_ext = {'xlsx':'excel','csv':'csv'}\n",
    "    globals()['list_df'] = []\n",
    "    \n",
    "    fichiers = [file for file in g.glob(dossier+'/*')]\n",
    "    \n",
    "    for fichier in fichiers:\n",
    "        fichier = fichier.split('\\\\')\n",
    "        (fnom,fext) = fichier[len(fichier)-1].split('.')\n",
    "        fichier = str(dossier)+'/'+str(fichier[1])\n",
    "        \n",
    "        if fext in liste_ext.keys():\n",
    "            exec(\"globals()[fnom] = pd.read_\"+liste_ext[fext]+\"(fichier)\")\n",
    "            print(fichier + \": Importé dans '\"+fnom+\"'\")\n",
    "            list_df.append(fnom)\n",
    "        else:\n",
    "            print('extension non reconnu, liste compatible: ')\n",
    "            print(liste_ext)\n",
    "#findef"
   ]
  },
  {
   "cell_type": "code",
   "execution_count": 5,
   "id": "636ee388",
   "metadata": {},
   "outputs": [
    {
     "name": "stdout",
     "output_type": "stream",
     "text": [
      "./data_p9/DisponibiliteAlimentaire_2017.csv: Importé dans 'DisponibiliteAlimentaire_2017'\n"
     ]
    }
   ],
   "source": [
    "# Chargement des données\n",
    "importer(\"./data_p9\")\n",
    "\n",
    "# Alias pour raccourcir le nom des variables.\n",
    "Disp_Alim = DisponibiliteAlimentaire_2017\n",
    "Disp_volaille = Disp_Alim[Disp_Alim[\"Produit\"] == \"Viande de Volailles\"] #Seul la viande de volaille nous intéresse pour le moment."
   ]
  },
  {
   "cell_type": "code",
   "execution_count": 6,
   "id": "da0ad89c",
   "metadata": {},
   "outputs": [],
   "source": [
    "# Pivot des colonnes\n",
    "Disp_volaille = Disp_volaille.pivot(index=\"Zone\", columns=\"Élément\", values=\"Valeur\")\n",
    "colonnes = [\"Disponibilité alimentaire en quantité (kg/personne/an)\", \"Importations - Quantité\", \"Production\",\"Variation de stock\"]\n",
    "\n",
    "# Sélection des colonnes correspondante au critère recherché\n",
    "Disp_volaille = Disp_volaille[colonnes].fillna(0)\n",
    "Disp_volaille = Disp_volaille.reset_index()\n",
    "\n",
    "Disp_volaille.to_csv('Disp_volaille.csv', index=False)"
   ]
  },
  {
   "cell_type": "code",
   "execution_count": null,
   "id": "0b8e63db",
   "metadata": {},
   "outputs": [],
   "source": []
  }
 ],
 "metadata": {
  "kernelspec": {
   "display_name": "Python 3 (ipykernel)",
   "language": "python",
   "name": "python3"
  },
  "language_info": {
   "codemirror_mode": {
    "name": "ipython",
    "version": 3
   },
   "file_extension": ".py",
   "mimetype": "text/x-python",
   "name": "python",
   "nbconvert_exporter": "python",
   "pygments_lexer": "ipython3",
   "version": "3.9.12"
  }
 },
 "nbformat": 4,
 "nbformat_minor": 5
}
